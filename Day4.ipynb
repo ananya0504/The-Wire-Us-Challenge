{
  "nbformat": 4,
  "nbformat_minor": 0,
  "metadata": {
    "colab": {
      "name": "Day4.ipynb",
      "provenance": [],
      "authorship_tag": "ABX9TyOvOeP8ss1gAaZ1zn8brcKX",
      "include_colab_link": true
    },
    "kernelspec": {
      "name": "python3",
      "display_name": "Python 3"
    }
  },
  "cells": [
    {
      "cell_type": "markdown",
      "metadata": {
        "id": "view-in-github",
        "colab_type": "text"
      },
      "source": [
        "<a href=\"https://colab.research.google.com/github/ananya0504/The-Wire-Us-Challenge/blob/master/Day4.ipynb\" target=\"_parent\"><img src=\"https://colab.research.google.com/assets/colab-badge.svg\" alt=\"Open In Colab\"/></a>"
      ]
    },
    {
      "cell_type": "code",
      "metadata": {
        "id": "X4QX_arA2o9w",
        "colab_type": "code",
        "colab": {
          "base_uri": "https://localhost:8080/",
          "height": 52
        },
        "outputId": "f4da57f9-a5cc-4232-8ecf-2e5dedc2f802"
      },
      "source": [
        "x=int(input(\"Enter your age:\"))\n",
        "if x>=18:\n",
        "  print(\"Eligible to vote\")\n",
        "else:\n",
        "  print(\"Cannot vote, wait till you grow up!\")"
      ],
      "execution_count": 4,
      "outputs": [
        {
          "output_type": "stream",
          "text": [
            "Enter your age:18\n",
            "Eligible to vote\n"
          ],
          "name": "stdout"
        }
      ]
    },
    {
      "cell_type": "code",
      "metadata": {
        "id": "GXQnawTd3dsu",
        "colab_type": "code",
        "colab": {
          "base_uri": "https://localhost:8080/",
          "height": 52
        },
        "outputId": "e53be395-b40d-4746-c7b5-76a1d6961459"
      },
      "source": [
        "x=int(input(\"Enter your age:\"))\n",
        "print(\"Eligible to vote\") if x>=18 else print(\"Cannot vote, wait till you grow up!\")"
      ],
      "execution_count": 5,
      "outputs": [
        {
          "output_type": "stream",
          "text": [
            "Enter your age:17\n",
            "Cannot vote, wait till you grow up!\n"
          ],
          "name": "stdout"
        }
      ]
    }
  ]
}