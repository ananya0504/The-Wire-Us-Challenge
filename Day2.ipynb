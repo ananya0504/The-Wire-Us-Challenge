{
  "nbformat": 4,
  "nbformat_minor": 0,
  "metadata": {
    "colab": {
      "name": "Untitled1.ipynb",
      "provenance": [],
      "authorship_tag": "ABX9TyMlyrB94momau66HeKv3T1u",
      "include_colab_link": true
    },
    "kernelspec": {
      "name": "python3",
      "display_name": "Python 3"
    }
  },
  "cells": [
    {
      "cell_type": "markdown",
      "metadata": {
        "id": "view-in-github",
        "colab_type": "text"
      },
      "source": [
        "<a href=\"https://colab.research.google.com/github/ananya0504/The-Wire-Us-Challenge/blob/master/Day2.ipynb\" target=\"_parent\"><img src=\"https://colab.research.google.com/assets/colab-badge.svg\" alt=\"Open In Colab\"/></a>"
      ]
    },
    {
      "cell_type": "code",
      "metadata": {
        "id": "1dSzh0KwsY4w",
        "colab_type": "code",
        "colab": {
          "base_uri": "https://localhost:8080/",
          "height": 69
        },
        "outputId": "cebc66d0-b4be-4225-c17f-5d75740d74e9"
      },
      "source": [
        "num = int(input(\"Enter a number: \"))\n",
        "count = 0\n",
        "while(num > 0):\n",
        "    num //= 10\n",
        "    count += 1\n",
        "\n",
        "print(\"\\n Number of digits in a given number = %d\" %count )"
      ],
      "execution_count": 9,
      "outputs": [
        {
          "output_type": "stream",
          "text": [
            "Enter a number: 45678\n",
            "\n",
            " Number of digits in a given number = 5\n"
          ],
          "name": "stdout"
        }
      ]
    }
  ]
}