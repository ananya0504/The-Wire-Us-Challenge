{
  "nbformat": 4,
  "nbformat_minor": 0,
  "metadata": {
    "colab": {
      "name": "Day6.ipynb",
      "provenance": [],
      "authorship_tag": "ABX9TyO62K2WedhJF9sIuUyJALmR",
      "include_colab_link": true
    },
    "kernelspec": {
      "name": "python3",
      "display_name": "Python 3"
    }
  },
  "cells": [
    {
      "cell_type": "markdown",
      "metadata": {
        "id": "view-in-github",
        "colab_type": "text"
      },
      "source": [
        "<a href=\"https://colab.research.google.com/github/ananya0504/The-Wire-Us-Challenge/blob/master/Day6.ipynb\" target=\"_parent\"><img src=\"https://colab.research.google.com/assets/colab-badge.svg\" alt=\"Open In Colab\"/></a>"
      ]
    },
    {
      "cell_type": "code",
      "metadata": {
        "id": "sNrBY3eAbCdZ",
        "colab_type": "code",
        "colab": {
          "base_uri": "https://localhost:8080/",
          "height": 173
        },
        "outputId": "8671cd86-eec5-4281-dac2-f7410726593a"
      },
      "source": [
        "Grocrylist = [\"Chocolate\", \"Milk\", \"Cereal\"]\n",
        "print(Grocrylist) #allitems\n",
        "print(Grocrylist[0]) #first item\n",
        "print(Grocrylist[-1]) #last item\n",
        "print(Grocrylist[0:2]) #0 included, 2 not included\n",
        "print(Grocrylist[:1]) #1 not included\n",
        "print(Grocrylist[1:])\n",
        "\n",
        "for x in Grocrylist:\n",
        "  print(x)"
      ],
      "execution_count": 7,
      "outputs": [
        {
          "output_type": "stream",
          "text": [
            "['Chocolate', 'Milk', 'Cereal']\n",
            "Chocolate\n",
            "Cereal\n",
            "['Chocolate', 'Milk']\n",
            "['Chocolate']\n",
            "['Milk', 'Cereal']\n",
            "Chocolate\n",
            "Milk\n",
            "Cereal\n"
          ],
          "name": "stdout"
        }
      ]
    }
  ]
}