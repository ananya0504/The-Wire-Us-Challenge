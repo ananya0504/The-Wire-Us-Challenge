{
  "nbformat": 4,
  "nbformat_minor": 0,
  "metadata": {
    "colab": {
      "name": "Day5.ipynb",
      "provenance": [],
      "authorship_tag": "ABX9TyPy1jXcVtHsYNiguS1FAMv8",
      "include_colab_link": true
    },
    "kernelspec": {
      "name": "python3",
      "display_name": "Python 3"
    }
  },
  "cells": [
    {
      "cell_type": "markdown",
      "metadata": {
        "id": "view-in-github",
        "colab_type": "text"
      },
      "source": [
        "<a href=\"https://colab.research.google.com/github/ananya0504/The-Wire-Us-Challenge/blob/master/Day5.ipynb\" target=\"_parent\"><img src=\"https://colab.research.google.com/assets/colab-badge.svg\" alt=\"Open In Colab\"/></a>"
      ]
    },
    {
      "cell_type": "code",
      "metadata": {
        "id": "yao_a42YhLzD",
        "colab_type": "code",
        "colab": {
          "base_uri": "https://localhost:8080/",
          "height": 52
        },
        "outputId": "7b9ebb30-f9bd-49e1-9db6-4f8069f2b9df"
      },
      "source": [
        "age=int(input(\"Enter your age: \"))\n",
        "if age >= 18 :\n",
        "    print(\"You are eligible to cast a vote.\")\n",
        "else:\n",
        "    print(\"There are still \",18-age,\" years left to be eligible!\")"
      ],
      "execution_count": 1,
      "outputs": [
        {
          "output_type": "stream",
          "text": [
            "Enter your age: 12\n",
            "There are still  6  years left to be eligible!\n"
          ],
          "name": "stdout"
        }
      ]
    }
  ]
}